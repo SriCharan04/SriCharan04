{
 "cells": [
  {
   "cell_type": "code",
   "execution_count": 1,
   "id": "a7d1b9ca",
   "metadata": {
    "execution": {
     "iopub.execute_input": "2023-10-29T10:31:46.265378Z",
     "iopub.status.busy": "2023-10-29T10:31:46.264564Z",
     "iopub.status.idle": "2023-10-29T10:32:19.628399Z",
     "shell.execute_reply": "2023-10-29T10:32:19.626986Z"
    },
    "papermill": {
     "duration": 33.377307,
     "end_time": "2023-10-29T10:32:19.631118",
     "exception": false,
     "start_time": "2023-10-29T10:31:46.253811",
     "status": "completed"
    },
    "tags": []
   },
   "outputs": [
    {
     "name": "stdout",
     "output_type": "stream",
     "text": [
      "Requirement already satisfied: seaborn in /opt/conda/lib/python3.10/site-packages (0.12.2)\r\n",
      "Requirement already satisfied: numpy!=1.24.0,>=1.17 in /opt/conda/lib/python3.10/site-packages (from seaborn) (1.23.5)\r\n",
      "Requirement already satisfied: pandas>=0.25 in /opt/conda/lib/python3.10/site-packages (from seaborn) (2.0.3)\r\n",
      "Requirement already satisfied: matplotlib!=3.6.1,>=3.1 in /opt/conda/lib/python3.10/site-packages (from seaborn) (3.7.2)\r\n",
      "Requirement already satisfied: contourpy>=1.0.1 in /opt/conda/lib/python3.10/site-packages (from matplotlib!=3.6.1,>=3.1->seaborn) (1.1.0)\r\n",
      "Requirement already satisfied: cycler>=0.10 in /opt/conda/lib/python3.10/site-packages (from matplotlib!=3.6.1,>=3.1->seaborn) (0.11.0)\r\n",
      "Requirement already satisfied: fonttools>=4.22.0 in /opt/conda/lib/python3.10/site-packages (from matplotlib!=3.6.1,>=3.1->seaborn) (4.40.0)\r\n",
      "Requirement already satisfied: kiwisolver>=1.0.1 in /opt/conda/lib/python3.10/site-packages (from matplotlib!=3.6.1,>=3.1->seaborn) (1.4.4)\r\n",
      "Requirement already satisfied: packaging>=20.0 in /opt/conda/lib/python3.10/site-packages (from matplotlib!=3.6.1,>=3.1->seaborn) (21.3)\r\n",
      "Requirement already satisfied: pillow>=6.2.0 in /opt/conda/lib/python3.10/site-packages (from matplotlib!=3.6.1,>=3.1->seaborn) (9.5.0)\r\n",
      "Requirement already satisfied: pyparsing<3.1,>=2.3.1 in /opt/conda/lib/python3.10/site-packages (from matplotlib!=3.6.1,>=3.1->seaborn) (3.0.9)\r\n",
      "Requirement already satisfied: python-dateutil>=2.7 in /opt/conda/lib/python3.10/site-packages (from matplotlib!=3.6.1,>=3.1->seaborn) (2.8.2)\r\n",
      "Requirement already satisfied: pytz>=2020.1 in /opt/conda/lib/python3.10/site-packages (from pandas>=0.25->seaborn) (2023.3)\r\n",
      "Requirement already satisfied: tzdata>=2022.1 in /opt/conda/lib/python3.10/site-packages (from pandas>=0.25->seaborn) (2023.3)\r\n",
      "Requirement already satisfied: six>=1.5 in /opt/conda/lib/python3.10/site-packages (from python-dateutil>=2.7->matplotlib!=3.6.1,>=3.1->seaborn) (1.16.0)\r\n"
     ]
    }
   ],
   "source": [
    "!pip install seaborn"
   ]
  },
  {
   "cell_type": "code",
   "execution_count": 2,
   "id": "527c4dd4",
   "metadata": {
    "_cell_guid": "b1076dfc-b9ad-4769-8c92-a6c4dae69d19",
    "_uuid": "8f2839f25d086af736a60e9eeb907d3b93b6e0e5",
    "execution": {
     "iopub.execute_input": "2023-10-29T10:32:19.648926Z",
     "iopub.status.busy": "2023-10-29T10:32:19.647969Z",
     "iopub.status.idle": "2023-10-29T10:32:21.757726Z",
     "shell.execute_reply": "2023-10-29T10:32:21.756656Z"
    },
    "papermill": {
     "duration": 2.121855,
     "end_time": "2023-10-29T10:32:21.760627",
     "exception": false,
     "start_time": "2023-10-29T10:32:19.638772",
     "status": "completed"
    },
    "tags": []
   },
   "outputs": [],
   "source": [
    "# This Python 3 environment comes with many helpful analytics libraries installed\n",
    "# It is defined by the kaggle/python Docker image: https://github.com/kaggle/docker-python\n",
    "# For example, here's several helpful packages to load\n",
    "\n",
    "import numpy as np # linear algebra\n",
    "import pandas as pd # data processing, CSV file I/O (e.g. pd.read_csv)\n",
    "import random as ra\n",
    "import matplotlib.pyplot as plt\n",
    "import seaborn as sn"
   ]
  },
  {
   "cell_type": "code",
   "execution_count": 3,
   "id": "0a209848",
   "metadata": {
    "execution": {
     "iopub.execute_input": "2023-10-29T10:32:21.777889Z",
     "iopub.status.busy": "2023-10-29T10:32:21.777340Z",
     "iopub.status.idle": "2023-10-29T10:32:21.785120Z",
     "shell.execute_reply": "2023-10-29T10:32:21.783811Z"
    },
    "papermill": {
     "duration": 0.019177,
     "end_time": "2023-10-29T10:32:21.787572",
     "exception": false,
     "start_time": "2023-10-29T10:32:21.768395",
     "status": "completed"
    },
    "tags": []
   },
   "outputs": [],
   "source": [
    "#function to perform K-Means clustering, and obtain mean vectors\n",
    "def KMeans(features,K,length,number):\n",
    "    #creating empty arrays\n",
    "    similar_count = 0\n",
    "    \n",
    "    #initialising mean representatives with random x's\n",
    "    means = initialise_means(features.copy(),number,length,K)\n",
    "    #looping until a consistent set of mean vectors and hard clusters are obtained\n",
    "    while True:\n",
    "        resp_mat = cluster_label(means, features.copy(),K,number)\n",
    "        new_means = recompute_mean(resp_mat,features.copy(),K,length,number)\n",
    "    \n",
    "        if np.array_equal(means,new_means):\n",
    "            similar_count += 1\n",
    "        \n",
    "        else:\n",
    "            similar_count = 0\n",
    "        \n",
    "        #if not changing for more than 9 iterations, then stop the cycle, and return the consistent set of clustered responsibilities.\n",
    "        if (similar_count == 10):\n",
    "            return resp_mat\n",
    "        \n",
    "        #until then, constantly updating the mean vectors\n",
    "        means = new_means"
   ]
  },
  {
   "cell_type": "code",
   "execution_count": 4,
   "id": "6efb8df9",
   "metadata": {
    "execution": {
     "iopub.execute_input": "2023-10-29T10:32:21.804171Z",
     "iopub.status.busy": "2023-10-29T10:32:21.803748Z",
     "iopub.status.idle": "2023-10-29T10:32:21.810963Z",
     "shell.execute_reply": "2023-10-29T10:32:21.809626Z"
    },
    "papermill": {
     "duration": 0.01837,
     "end_time": "2023-10-29T10:32:21.813485",
     "exception": false,
     "start_time": "2023-10-29T10:32:21.795115",
     "status": "completed"
    },
    "tags": []
   },
   "outputs": [],
   "source": [
    "def maximisation(resp_mat,features,K,length,number,covar_type,tied_covar):\n",
    "    means = recompute_mean(resp_mat,features.copy(),K,length,number)\n",
    "    feat = np.empty((K,number,length))\n",
    "    for i in range(K):\n",
    "        feat[i,:,:] = np.subtract(features,means[i])\n",
    "    covar_mat = covariance(feat,resp_mat,K,length,number,covar_type,tied_covar)\n",
    "    weight = weight_params(resp_mat,number)\n",
    "    return covar_mat, weight, feat, means"
   ]
  },
  {
   "cell_type": "code",
   "execution_count": 5,
   "id": "a1d39c11",
   "metadata": {
    "execution": {
     "iopub.execute_input": "2023-10-29T10:32:21.830537Z",
     "iopub.status.busy": "2023-10-29T10:32:21.829535Z",
     "iopub.status.idle": "2023-10-29T10:32:21.835465Z",
     "shell.execute_reply": "2023-10-29T10:32:21.834445Z"
    },
    "papermill": {
     "duration": 0.016859,
     "end_time": "2023-10-29T10:32:21.837786",
     "exception": false,
     "start_time": "2023-10-29T10:32:21.820927",
     "status": "completed"
    },
    "tags": []
   },
   "outputs": [],
   "source": [
    "def weight_params(resp_mat,number):\n",
    "    effective_egs = np.sum(resp_mat,axis = 0)\n",
    "    weight_array = np.divide(effective_egs,number)\n",
    "    return weight_array"
   ]
  },
  {
   "cell_type": "code",
   "execution_count": 6,
   "id": "3a499d6b",
   "metadata": {
    "execution": {
     "iopub.execute_input": "2023-10-29T10:32:21.854636Z",
     "iopub.status.busy": "2023-10-29T10:32:21.854220Z",
     "iopub.status.idle": "2023-10-29T10:32:21.860201Z",
     "shell.execute_reply": "2023-10-29T10:32:21.858540Z"
    },
    "papermill": {
     "duration": 0.01725,
     "end_time": "2023-10-29T10:32:21.862596",
     "exception": false,
     "start_time": "2023-10-29T10:32:21.845346",
     "status": "completed"
    },
    "tags": []
   },
   "outputs": [],
   "source": [
    "def initialise_means(feature_v,number,length,K):\n",
    "    rng = np.random.default_rng()\n",
    "    means = rng.choice(feature_v,K,replace=False)\n",
    "    return means"
   ]
  },
  {
   "cell_type": "code",
   "execution_count": 7,
   "id": "818e0e70",
   "metadata": {
    "execution": {
     "iopub.execute_input": "2023-10-29T10:32:21.879896Z",
     "iopub.status.busy": "2023-10-29T10:32:21.879429Z",
     "iopub.status.idle": "2023-10-29T10:32:21.886344Z",
     "shell.execute_reply": "2023-10-29T10:32:21.885115Z"
    },
    "papermill": {
     "duration": 0.018149,
     "end_time": "2023-10-29T10:32:21.888644",
     "exception": false,
     "start_time": "2023-10-29T10:32:21.870495",
     "status": "completed"
    },
    "tags": []
   },
   "outputs": [],
   "source": [
    "def cluster_label(means,features,K,number):\n",
    "    resp_mat = np.zeros((number,K))\n",
    "    count = 0\n",
    "    for i in features:\n",
    "        distances = np.zeros(0)\n",
    "        resp_v = np.zeros(K)\n",
    "        #calculate distances between mean representatives and the point\n",
    "        for j in means:\n",
    "            euc_dist = np.linalg.norm(i - j)\n",
    "            distances = np.append(distances,euc_dist)\n",
    "        #assign class label of which has minimum euclidean distance\n",
    "        class_label = np.argmin(distances,axis = -1)\n",
    "        resp_mat[count,class_label] = 1\n",
    "        count += 1\n",
    "    return resp_mat"
   ]
  },
  {
   "cell_type": "code",
   "execution_count": 8,
   "id": "04c1433e",
   "metadata": {
    "execution": {
     "iopub.execute_input": "2023-10-29T10:32:21.905198Z",
     "iopub.status.busy": "2023-10-29T10:32:21.904752Z",
     "iopub.status.idle": "2023-10-29T10:32:21.912201Z",
     "shell.execute_reply": "2023-10-29T10:32:21.911045Z"
    },
    "papermill": {
     "duration": 0.018592,
     "end_time": "2023-10-29T10:32:21.914649",
     "exception": false,
     "start_time": "2023-10-29T10:32:21.896057",
     "status": "completed"
    },
    "tags": []
   },
   "outputs": [],
   "source": [
    "def covariance(feat, resp_mat, K, length, number,covar_type,tied_covar):\n",
    "    covar_mat = np.zeros((K, length, length))\n",
    "\n",
    "    for i in range(K):\n",
    "        # Initialize a weighted sum for the covariance matrix\n",
    "        weighted_sum = np.zeros((length, length))\n",
    "\n",
    "        # Calculate the weighted sum for this component's covariance matrix\n",
    "        for j in range(number):\n",
    "            weighted_sum += resp_mat[j, i] * np.outer(feat[i, j, :], feat[i, j, :])\n",
    "    \n",
    "            #constructing a diagonal covariance matrix, if prompted accordingly\n",
    "            if covar_type:\n",
    "                weighted_sum = np.diag(np.diag(weighted_sum))\n",
    "        # Normalize the covariance matrix by dividing by the sum of responsibilities for the component\n",
    "        sum_of_resp = np.sum(resp_mat[:, i])\n",
    "        if sum_of_resp != 0:  # Avoid division by zero\n",
    "            covar_mat[i, :, :] = weighted_sum / sum_of_resp       \n",
    "    return covar_mat"
   ]
  },
  {
   "cell_type": "code",
   "execution_count": 9,
   "id": "faeaa790",
   "metadata": {
    "execution": {
     "iopub.execute_input": "2023-10-29T10:32:21.932032Z",
     "iopub.status.busy": "2023-10-29T10:32:21.931587Z",
     "iopub.status.idle": "2023-10-29T10:32:21.938845Z",
     "shell.execute_reply": "2023-10-29T10:32:21.937577Z"
    },
    "papermill": {
     "duration": 0.018673,
     "end_time": "2023-10-29T10:32:21.941288",
     "exception": false,
     "start_time": "2023-10-29T10:32:21.922615",
     "status": "completed"
    },
    "tags": []
   },
   "outputs": [],
   "source": [
    "def expectation(feat,resp_mat,covar_mat,weights,K,length,number):\n",
    "    likehd_mat = np.zeros(number)\n",
    "    for i in range(0,K):\n",
    "        resp_mat[:,i] = evaluate_gaussian(covar_mat[i,:,:],feat[i,:,:],weights[i],length,number)    \n",
    "    \n",
    "    for i in range(0,number):\n",
    "        likehd_mat[i] = np.sum(resp_mat[i,:])\n",
    "        resp_mat[i,:] = np.divide(resp_mat[i,:],likehd_mat[i])\n",
    "    return resp_mat,likehd_mat.T"
   ]
  },
  {
   "cell_type": "code",
   "execution_count": 10,
   "id": "9d5c8348",
   "metadata": {
    "execution": {
     "iopub.execute_input": "2023-10-29T10:32:21.958723Z",
     "iopub.status.busy": "2023-10-29T10:32:21.958043Z",
     "iopub.status.idle": "2023-10-29T10:32:21.964455Z",
     "shell.execute_reply": "2023-10-29T10:32:21.963213Z"
    },
    "papermill": {
     "duration": 0.018078,
     "end_time": "2023-10-29T10:32:21.967111",
     "exception": false,
     "start_time": "2023-10-29T10:32:21.949033",
     "status": "completed"
    },
    "tags": []
   },
   "outputs": [],
   "source": [
    "def evaluate_gaussian(covar_mat,feat,weight,length,number):\n",
    "    resps = np.zeros(number)\n",
    "    for i in range(0,number):\n",
    "        resps[i] = np.divide(weight*np.exp(np.multiply(feat[i] @ np.linalg.inv(covar_mat) @ feat[i].T,-1/2)),(np.sqrt((2*np.pi)**length*(np.linalg.det(covar_mat)))))\n",
    "    return resps.T"
   ]
  },
  {
   "cell_type": "code",
   "execution_count": 11,
   "id": "24454045",
   "metadata": {
    "execution": {
     "iopub.execute_input": "2023-10-29T10:32:21.983962Z",
     "iopub.status.busy": "2023-10-29T10:32:21.983566Z",
     "iopub.status.idle": "2023-10-29T10:32:21.990216Z",
     "shell.execute_reply": "2023-10-29T10:32:21.988925Z"
    },
    "papermill": {
     "duration": 0.018063,
     "end_time": "2023-10-29T10:32:21.992725",
     "exception": false,
     "start_time": "2023-10-29T10:32:21.974662",
     "status": "completed"
    },
    "tags": []
   },
   "outputs": [],
   "source": [
    "def recompute_mean(resp_mat, features, K, length, number):\n",
    "    resp_avg = np.zeros((K, length))\n",
    "    \n",
    "    for i in range(K):\n",
    "        for j in range(number):\n",
    "            resp_avg[i] += resp_mat[j, i] * features[j]\n",
    "        \n",
    "        # Normalize the mean by dividing by the sum of responsibilities for the cluster  \n",
    "        sum_of_resp = np.sum(resp_mat[:, i])\n",
    "        if sum_of_resp != 0:  #This part avoid division by zero       \n",
    "            resp_avg[i] /= sum_of_resp\n",
    "    return resp_avg"
   ]
  },
  {
   "cell_type": "code",
   "execution_count": 12,
   "id": "bb68736e",
   "metadata": {
    "execution": {
     "iopub.execute_input": "2023-10-29T10:32:22.009804Z",
     "iopub.status.busy": "2023-10-29T10:32:22.009394Z",
     "iopub.status.idle": "2023-10-29T10:32:22.016687Z",
     "shell.execute_reply": "2023-10-29T10:32:22.015638Z"
    },
    "papermill": {
     "duration": 0.018989,
     "end_time": "2023-10-29T10:32:22.019354",
     "exception": false,
     "start_time": "2023-10-29T10:32:22.000365",
     "status": "completed"
    },
    "tags": []
   },
   "outputs": [],
   "source": [
    "def func_main(features,tied_covar,K):\n",
    "    number = np.shape(features)[0]\n",
    "    length = np.shape(features)[1]\n",
    "    \n",
    "    log_likelihood = 0\n",
    "    count = 0\n",
    "    exit_count = 7\n",
    "    i = 1\n",
    "\n",
    "    resp_mat = KMeans(features,K,length,number)\n",
    "    while (count <= exit_count):\n",
    "        covar_mat,weights,feat,means = maximisation(resp_mat,features,K,length,number,covar_type,tied_covar)\n",
    "        resp_mat,likehd_mat = expectation(feat,resp_mat,covar_mat,weights,K,length,number)\n",
    "        new_log_likelihood = np.sum(np.log(likehd_mat))\n",
    "        change_likehd = new_log_likelihood-log_likelihood\n",
    "        if (np.abs(change_likehd) < 1e-2):\n",
    "            count += 1\n",
    "        i += 1\n",
    "        log_likelihood = new_log_likelihood\n",
    "    #print(\"Log Likelihood on the final epoch #\",i,\"is \",new_log_likelihood)\n",
    "    return means,covar_mat,weights"
   ]
  },
  {
   "cell_type": "code",
   "execution_count": 13,
   "id": "24818fb7",
   "metadata": {
    "execution": {
     "iopub.execute_input": "2023-10-29T10:32:22.036432Z",
     "iopub.status.busy": "2023-10-29T10:32:22.036021Z",
     "iopub.status.idle": "2023-10-29T10:32:22.044598Z",
     "shell.execute_reply": "2023-10-29T10:32:22.043356Z"
    },
    "papermill": {
     "duration": 0.019904,
     "end_time": "2023-10-29T10:32:22.047230",
     "exception": false,
     "start_time": "2023-10-29T10:32:22.027326",
     "status": "completed"
    },
    "tags": []
   },
   "outputs": [],
   "source": [
    "def matrix_plot(actual_label_array,predicted_label_array,num_class,class_numbers,covar_type,tied_covar,K,phrase):\n",
    "    mistakes = 0\n",
    "    plot_matrix = np.zeros((num_class,num_class))\n",
    "    for j in range(0,np.sum(class_numbers)):\n",
    "        actual_class = int(actual_label_array[j])\n",
    "        predicted_class = int(predicted_label_array[j])\n",
    "        if (actual_class != predicted_class):\n",
    "            mistakes += 1\n",
    "        plot_matrix[predicted_class][actual_class] += 1\n",
    "    sn.set(font_scale=1.5)\n",
    "    mat = sn.heatmap(plot_matrix,annot=True,annot_kws={\"size\":10},cmap='crest',linecolor='black')\n",
    "    mat.set(xlabel = 'True Class',ylabel = 'Predicted Class')\n",
    "    plt.savefig(\"/kaggle/working/matrix_{}_{}_{}_{}.pdf\".format(K,covar_type,tied_covar,phrase))\n",
    "    return mistakes"
   ]
  },
  {
   "cell_type": "markdown",
   "id": "bb90e6ff",
   "metadata": {
    "execution": {
     "iopub.execute_input": "2023-10-26T14:38:16.869063Z",
     "iopub.status.busy": "2023-10-26T14:38:16.868130Z",
     "iopub.status.idle": "2023-10-26T14:38:17.570276Z",
     "shell.execute_reply": "2023-10-26T14:38:17.569241Z",
     "shell.execute_reply.started": "2023-10-26T14:38:16.869023Z"
    },
    "papermill": {
     "duration": 0.006933,
     "end_time": "2023-10-29T10:32:22.061467",
     "exception": false,
     "start_time": "2023-10-29T10:32:22.054534",
     "status": "completed"
    },
    "tags": []
   },
   "source": [
    "import numpy as np\n",
    "from sklearn.mixture import GaussianMixture\n",
    "gm = GaussianMixture(n_components=5, random_state=0,covariance_type='diag').fit(needed_data)\n",
    "print(gm.covariances_)\n",
    "print(gm.means_)\n",
    "print(gm.weights_)\n",
    "#gm.predict([[0, 0], [12, 3]])\n"
   ]
  },
  {
   "cell_type": "code",
   "execution_count": null,
   "id": "a8d8fea7",
   "metadata": {
    "papermill": {
     "duration": 0.007523,
     "end_time": "2023-10-29T10:32:22.076450",
     "exception": false,
     "start_time": "2023-10-29T10:32:22.068927",
     "status": "completed"
    },
    "tags": []
   },
   "outputs": [],
   "source": []
  },
  {
   "cell_type": "code",
   "execution_count": 14,
   "id": "ce5437cf",
   "metadata": {
    "execution": {
     "iopub.execute_input": "2023-10-29T10:32:22.093466Z",
     "iopub.status.busy": "2023-10-29T10:32:22.093069Z",
     "iopub.status.idle": "2023-10-29T10:32:22.569547Z",
     "shell.execute_reply": "2023-10-29T10:32:22.568353Z"
    },
    "papermill": {
     "duration": 0.487667,
     "end_time": "2023-10-29T10:32:22.571577",
     "exception": true,
     "start_time": "2023-10-29T10:32:22.083910",
     "status": "failed"
    },
    "tags": []
   },
   "outputs": [
    {
     "ename": "StdinNotImplementedError",
     "evalue": "raw_input was called, but this frontend does not support input requests.",
     "output_type": "error",
     "traceback": [
      "\u001b[0;31m---------------------------------------------------------------------------\u001b[0m",
      "\u001b[0;31mStdinNotImplementedError\u001b[0m                  Traceback (most recent call last)",
      "Cell \u001b[0;32mIn[14], line 4\u001b[0m\n\u001b[1;32m      1\u001b[0m \u001b[38;5;28;01mimport\u001b[39;00m \u001b[38;5;21;01mpandas\u001b[39;00m \u001b[38;5;28;01mas\u001b[39;00m \u001b[38;5;21;01mpd\u001b[39;00m\n\u001b[1;32m      2\u001b[0m \u001b[38;5;28;01mimport\u001b[39;00m \u001b[38;5;21;01mnumpy\u001b[39;00m \u001b[38;5;28;01mas\u001b[39;00m \u001b[38;5;21;01mnp\u001b[39;00m\n\u001b[0;32m----> 4\u001b[0m covar_type \u001b[38;5;241m=\u001b[39m \u001b[38;5;28mbool\u001b[39m(\u001b[38;5;28;43minput\u001b[39;49m\u001b[43m(\u001b[49m\u001b[38;5;124;43m\"\u001b[39;49m\u001b[38;5;124;43mEnter 1 for diagonal covariance matrix, and 0 for full covariance matrix\u001b[39;49m\u001b[38;5;124;43m\"\u001b[39;49m\u001b[43m)\u001b[49m)\n\u001b[1;32m      5\u001b[0m tied_covar \u001b[38;5;241m=\u001b[39m \u001b[38;5;28mbool\u001b[39m(\u001b[38;5;28minput\u001b[39m(\u001b[38;5;124m\"\u001b[39m\u001b[38;5;124mEnter 1 for tied covariance matrices (if the covariance matrix for each class is to be same)\u001b[39m\u001b[38;5;124m\"\u001b[39m))\n\u001b[1;32m      7\u001b[0m \u001b[38;5;28mprint\u001b[39m(\u001b[38;5;124m\"\u001b[39m\u001b[38;5;130;01m\\\\\u001b[39;00m\u001b[38;5;124mbegin\u001b[39m\u001b[38;5;132;01m{table}\u001b[39;00m\u001b[38;5;124m\"\u001b[39m)\n",
      "File \u001b[0;32m/opt/conda/lib/python3.10/site-packages/ipykernel/kernelbase.py:1190\u001b[0m, in \u001b[0;36mKernel.raw_input\u001b[0;34m(self, prompt)\u001b[0m\n\u001b[1;32m   1188\u001b[0m \u001b[38;5;28;01mif\u001b[39;00m \u001b[38;5;129;01mnot\u001b[39;00m \u001b[38;5;28mself\u001b[39m\u001b[38;5;241m.\u001b[39m_allow_stdin:\n\u001b[1;32m   1189\u001b[0m     msg \u001b[38;5;241m=\u001b[39m \u001b[38;5;124m\"\u001b[39m\u001b[38;5;124mraw_input was called, but this frontend does not support input requests.\u001b[39m\u001b[38;5;124m\"\u001b[39m\n\u001b[0;32m-> 1190\u001b[0m     \u001b[38;5;28;01mraise\u001b[39;00m StdinNotImplementedError(msg)\n\u001b[1;32m   1191\u001b[0m \u001b[38;5;28;01mreturn\u001b[39;00m \u001b[38;5;28mself\u001b[39m\u001b[38;5;241m.\u001b[39m_input_request(\n\u001b[1;32m   1192\u001b[0m     \u001b[38;5;28mstr\u001b[39m(prompt),\n\u001b[1;32m   1193\u001b[0m     \u001b[38;5;28mself\u001b[39m\u001b[38;5;241m.\u001b[39m_parent_ident[\u001b[38;5;124m\"\u001b[39m\u001b[38;5;124mshell\u001b[39m\u001b[38;5;124m\"\u001b[39m],\n\u001b[1;32m   1194\u001b[0m     \u001b[38;5;28mself\u001b[39m\u001b[38;5;241m.\u001b[39mget_parent(\u001b[38;5;124m\"\u001b[39m\u001b[38;5;124mshell\u001b[39m\u001b[38;5;124m\"\u001b[39m),\n\u001b[1;32m   1195\u001b[0m     password\u001b[38;5;241m=\u001b[39m\u001b[38;5;28;01mFalse\u001b[39;00m,\n\u001b[1;32m   1196\u001b[0m )\n",
      "\u001b[0;31mStdinNotImplementedError\u001b[0m: raw_input was called, but this frontend does not support input requests."
     ]
    }
   ],
   "source": [
    "import pandas as pd\n",
    "import numpy as np\n",
    "\n",
    "covar_type = bool(input(\"Enter 1 for diagonal covariance matrix, and 0 for full covariance matrix\"))\n",
    "tied_covar = bool(input(\"Enter 1 for tied covariance matrices (if the covariance matrix for each class is to be same)\"))\n",
    "\n",
    "print(\"\\\\begin{table}\")\n",
    "print(\"\\t\\\\centering\")\n",
    "print(\"\\t\\\\caption{Classification Accuracy on Datasets, with GMM, full covariance matrices}\")\n",
    "print(\"\\t\\\\begin{tabular}{|c|c|c|c|c|c|}\")\n",
    "print(\"\\t\\hline\")\n",
    "print(\"\\tK & Train Accuracy & Val Accuracy & Test Accuracy & Params Per Class \\\\\\\\\")\n",
    "print(\"\\t\\hline\")\n",
    "print(\"\\t\\\\end{tabular}\")\n",
    "print(\"\\\\end{table}\")\n",
    "for K in range(2,20):\n",
    "    train_data = preprocess(\"/kaggle/input/assn2assn2/Dataset-1b/Train-10.csv\")\n",
    "    class_means,class_covars,class_weights,class_prior_probs,num_class = train(train_data,covar_type,tied_covar,K)\n",
    "\n",
    "    test_data = preprocess(\"/kaggle/input/assn2assn2/Dataset-1b/Test-10.csv\")\n",
    "    #test_data = preprocess(\"/kaggle/input/assn2assn2/Dataset-1a/Val-35.csv\")\n",
    "    #test_data = preprocess(\"/kaggle/input/assn2assn2/Dataset-1a/Test-35.csv\")\n",
    "\n",
    "    features_array,class_numbers,length,actual_labels = extract_data(test_data)\n",
    "    total_egs = np.sum(class_numbers)\n",
    "    predicted_labels = predict(features_array,total_egs,length,K,class_means,class_covars,class_weights,class_prior_probs,num_class)\n",
    "    classify_acc1 = plot(predicted_labels,actual_labels,num_class,class_numbers,features_array,class_means,class_covars,K,\"train\")\n",
    "    \n",
    "    #test_data = preprocess(\"/kaggle/input/assn2assn2/Dataset-1a/Train-35.csv\")\n",
    "    test_data = preprocess(\"/kaggle/input/assn2assn2/Dataset-1b/Val-10.csv\")\n",
    "    #test_data = preprocess(\"/kaggle/input/assn2assn2/Dataset-1a/Test-35.csv\")\n",
    "\n",
    "    features_array,class_numbers,length,actual_labels = extract_data(test_data)\n",
    "    total_egs = np.sum(class_numbers)\n",
    "    predicted_labels = predict(features_array,total_egs,length,K,class_means,class_covars,class_weights,class_prior_probs,num_class)\n",
    "    classify_acc2 = plot(predicted_labels,actual_labels,num_class,class_numbers,features_array,class_means,class_covars,K,\"val\")\n",
    "    print(\"\\t{} & {} & {} & {} & {} \\\\\\\\ \\\\hline\".format(K,int(classify_acc1*100000)/100000,int(classify_acc2*100000)/100000,\" \",6*K))"
   ]
  },
  {
   "cell_type": "code",
   "execution_count": null,
   "id": "b9d86185",
   "metadata": {
    "execution": {
     "iopub.execute_input": "2023-10-29T08:44:35.232621Z",
     "iopub.status.busy": "2023-10-29T08:44:35.231340Z",
     "iopub.status.idle": "2023-10-29T08:45:20.162375Z",
     "shell.execute_reply": "2023-10-29T08:45:20.161224Z",
     "shell.execute_reply.started": "2023-10-29T08:44:35.232577Z"
    },
    "papermill": {
     "duration": null,
     "end_time": null,
     "exception": null,
     "start_time": null,
     "status": "pending"
    },
    "tags": []
   },
   "outputs": [],
   "source": [
    " K = int(input(\"Enter the number of Gaussians to use for this Gaussian Mixture Model (Enter 1 for a single Gaussian distribution)\"))\n",
    "\n",
    "train_data = preprocess(\"/kaggle/input/assn2assn2/Dataset-1b/Train-10.csv\")\n",
    "class_means,class_covars,class_weights,class_prior_probs,num_class = train(train_data,covar_type,tied_covar,K)\n",
    "\n",
    "#test_data = preprocess(\"/kaggle/input/assn2assn2/Dataset-1a/Train-35.csv\")\n",
    "#test_data = preprocess(\"/kaggle/input/assn2assn2/Dataset-1a/Val-35.csv\")\n",
    "test_data = preprocess(\"/kaggle/input/assn2assn2/Dataset-1b/Test-10.csv\")\n",
    "\n",
    "features_array,class_numbers,length,actual_labels = extract_data(test_data)\n",
    "total_egs = np.sum(class_numbers)\n",
    "predicted_labels = predict(features_array,total_egs,length,K,class_means,class_covars,class_weights,class_prior_probs,num_class)\n",
    "classify_acc = plot(predicted_labels,actual_labels,num_class,class_numbers,features_array,class_means,class_covars,K,\"test_gmm_full\")\n",
    "print(int(classify_acc*100000)/100000)\n",
    "\n",
    "plt.clf()\n",
    "test_data = preprocess(\"/kaggle/input/assn2assn2/Dataset-1b/Train-10.csv\")\n",
    "#test_data = preprocess(\"/kaggle/input/assn2assn2/Dataset-1a/Val-35.csv\")\n",
    "#test_data = preprocess(\"/kaggle/input/assn2assn2/Dataset-1a/Test-35.csv\")\n",
    "\n",
    "features_array,class_numbers,length,actual_labels = extract_data(test_data)\n",
    "total_egs = np.sum(class_numbers)\n",
    "predicted_labels = predict(features_array,total_egs,length,K,class_means,class_covars,class_weights,class_prior_probs,num_class)\n",
    "classify_acc1 = plot1(predicted_labels,actual_labels,num_class,class_numbers,features_array,class_means,class_covars,K,\"train_gmm_full\")"
   ]
  },
  {
   "cell_type": "code",
   "execution_count": null,
   "id": "59bb4231",
   "metadata": {
    "execution": {
     "iopub.execute_input": "2023-10-29T08:13:39.947297Z",
     "iopub.status.busy": "2023-10-29T08:13:39.946889Z",
     "iopub.status.idle": "2023-10-29T08:13:39.969066Z",
     "shell.execute_reply": "2023-10-29T08:13:39.967742Z",
     "shell.execute_reply.started": "2023-10-29T08:13:39.947264Z"
    },
    "papermill": {
     "duration": null,
     "end_time": null,
     "exception": null,
     "start_time": null,
     "status": "pending"
    },
    "tags": []
   },
   "outputs": [],
   "source": [
    "preprocess(\"/kaggle/input/assn2assn2/Dataset-1b/Train-10.csv\")"
   ]
  },
  {
   "cell_type": "code",
   "execution_count": null,
   "id": "698324d5",
   "metadata": {
    "execution": {
     "iopub.execute_input": "2023-10-29T08:13:49.033544Z",
     "iopub.status.busy": "2023-10-29T08:13:49.033113Z",
     "iopub.status.idle": "2023-10-29T08:13:49.041778Z",
     "shell.execute_reply": "2023-10-29T08:13:49.040388Z",
     "shell.execute_reply.started": "2023-10-29T08:13:49.033503Z"
    },
    "papermill": {
     "duration": null,
     "end_time": null,
     "exception": null,
     "start_time": null,
     "status": "pending"
    },
    "tags": []
   },
   "outputs": [],
   "source": [
    "def preprocess(file_path,file_path_1=[]):\n",
    "    # Creating a dataframe from the given input file\n",
    "    file = pd.read_csv(file_path)\n",
    "    #file = pd.read_csv(file_path,header = None)\n",
    "    df = pd.DataFrame(file)\n",
    "    try:\n",
    "        file1 = pd.read_csv(file_path_1,header = None)\n",
    "        df1 = pd.DataFrame(file1)\n",
    "        df1.rename(columns = {df1.columns[0]:\"label\"},inplace = True)\n",
    "        \n",
    "        df = pd.concat([df,df1],axis = 1)\n",
    "    except:\n",
    "        pass\n",
    "    \n",
    "    # Group by class label\n",
    "    data = df.groupby('label')\n",
    "    #data = df.groupby('output')\n",
    "    return data"
   ]
  },
  {
   "cell_type": "code",
   "execution_count": null,
   "id": "efcb74cd",
   "metadata": {
    "execution": {
     "iopub.execute_input": "2023-10-29T07:14:21.815216Z",
     "iopub.status.busy": "2023-10-29T07:14:21.814575Z",
     "iopub.status.idle": "2023-10-29T07:14:21.825304Z",
     "shell.execute_reply": "2023-10-29T07:14:21.824201Z",
     "shell.execute_reply.started": "2023-10-29T07:14:21.815182Z"
    },
    "papermill": {
     "duration": null,
     "end_time": null,
     "exception": null,
     "start_time": null,
     "status": "pending"
    },
    "tags": []
   },
   "outputs": [],
   "source": [
    "def train(data,covar_type,tied_covar,K):\n",
    "    class_means = []\n",
    "    class_covars = []\n",
    "    class_weights = []\n",
    "    no_class_egs = []\n",
    "\n",
    "    class_count = 0\n",
    "    for indx, grp in data:\n",
    "        col_data = np.array(grp.values)\n",
    "        class_features = col_data[:,1:-1]\n",
    "        means,covar_mat,weights = func_main(class_features,covar_type,K)\n",
    "        class_weights.append(weights)\n",
    "        class_covars.append(covar_mat)\n",
    "        class_means.append(means)\n",
    "        no_class_egs.append(np.shape(class_features)[0])\n",
    "        class_count += 1\n",
    "    \n",
    "    if tied_covar:\n",
    "        class_covars = covar_tie(class_covars,class_count)\n",
    "    \n",
    "    no_class_egs = np.array(no_class_egs)\n",
    "    class_prior_probs = np.divide(no_class_egs,np.sum(no_class_egs))\n",
    "    return class_means,class_covars,class_weights,class_prior_probs,class_count"
   ]
  },
  {
   "cell_type": "code",
   "execution_count": null,
   "id": "0704a055",
   "metadata": {
    "execution": {
     "iopub.execute_input": "2023-10-29T07:14:22.349780Z",
     "iopub.status.busy": "2023-10-29T07:14:22.349039Z",
     "iopub.status.idle": "2023-10-29T07:14:22.360775Z",
     "shell.execute_reply": "2023-10-29T07:14:22.359562Z",
     "shell.execute_reply.started": "2023-10-29T07:14:22.349740Z"
    },
    "papermill": {
     "duration": null,
     "end_time": null,
     "exception": null,
     "start_time": null,
     "status": "pending"
    },
    "tags": []
   },
   "outputs": [],
   "source": [
    "def predict(features_array,total_egs,length,K,class_means,class_covars,class_weights,class_prior_probs,num_class):    \n",
    "    predicted_labels = []\n",
    "    posterior_mat = np.zeros((total_egs,num_class))\n",
    "    dummy_array = np.zeros((total_egs,K))\n",
    "        \n",
    "    for j in range(0,num_class):\n",
    "        means = class_means[j]\n",
    "        covar_mat = class_covars[j]\n",
    "        weights = class_weights[j]\n",
    "        \n",
    "        feat = np.empty((K,total_egs,length))\n",
    "        for i in range(K):\n",
    "            feat[i,:,:] = np.subtract(features_array,means[i])\n",
    "        dummy_array,posterior_mat[:,j] = expectation(feat,dummy_array,covar_mat,weights,K,length,total_egs)\n",
    "        posterior_mat[:,j] = np.multiply(posterior_mat[:,j],class_prior_probs[j])\n",
    "    predicted_labels = np.argmax(posterior_mat,axis=1)\n",
    "    return predicted_labels"
   ]
  },
  {
   "cell_type": "code",
   "execution_count": null,
   "id": "02c99edd",
   "metadata": {
    "execution": {
     "iopub.execute_input": "2023-10-29T07:14:22.771804Z",
     "iopub.status.busy": "2023-10-29T07:14:22.770649Z",
     "iopub.status.idle": "2023-10-29T07:14:22.780019Z",
     "shell.execute_reply": "2023-10-29T07:14:22.778890Z",
     "shell.execute_reply.started": "2023-10-29T07:14:22.771761Z"
    },
    "papermill": {
     "duration": null,
     "end_time": null,
     "exception": null,
     "start_time": null,
     "status": "pending"
    },
    "tags": []
   },
   "outputs": [],
   "source": [
    "def extract_data(data):\n",
    "    features_array = None\n",
    "    class_numbers = []\n",
    "    actual_labels = []\n",
    "    for indx,grp in data:\n",
    "        col_data = np.array(grp.values)\n",
    "        class_features = col_data[:,1:-1]\n",
    "        act_class_labels = col_data[:,-1]\n",
    "\n",
    "        if features_array is None:\n",
    "            features_array = class_features\n",
    "        \n",
    "        else:\n",
    "            features_array = np.concatenate((features_array,class_features),axis=0)\n",
    "        actual_labels = np.concatenate((actual_labels,act_class_labels),axis=0)\n",
    "        \n",
    "        number = np.shape(class_features)[0]\n",
    "        length = np.shape(class_features)[1]\n",
    "        class_numbers.append(number)\n",
    "    return features_array,class_numbers,length,actual_labels"
   ]
  },
  {
   "cell_type": "code",
   "execution_count": null,
   "id": "e42129fa",
   "metadata": {
    "execution": {
     "iopub.execute_input": "2023-10-29T07:14:24.384367Z",
     "iopub.status.busy": "2023-10-29T07:14:24.383476Z",
     "iopub.status.idle": "2023-10-29T07:14:24.390737Z",
     "shell.execute_reply": "2023-10-29T07:14:24.389596Z",
     "shell.execute_reply.started": "2023-10-29T07:14:24.384331Z"
    },
    "papermill": {
     "duration": null,
     "end_time": null,
     "exception": null,
     "start_time": null,
     "status": "pending"
    },
    "tags": []
   },
   "outputs": [],
   "source": [
    "def plot(predicted_labels,actual_labels,num_class,class_numbers,features_array,class_means,class_covars,K,phrase):\n",
    "    misclass_egs = matrix_plot(actual_labels,predicted_labels,num_class,class_numbers,covar_type,tied_covar,K,phrase)\n",
    "    total_egs = np.sum(class_numbers)\n",
    "    classify_acc = (1-(misclass_egs/total_egs))*100\n",
    "    #if (length <= 2):\n",
    "    #    x_min,x_max = features_array[:,0].min()-0.5 , features_array[:,0].max()+0.5\n",
    "    #    y_min,y_max = features_array[:,1].min()-0.5 , features_array[:,1].max()+0.5\n",
    "    #    \n",
    "    #    plt.figure()\n",
    "    #\n",
    "    #    level_curve_plot(class_means,class_covars,K,num_class,x_min,x_max,y_min,y_max)\n",
    "    #    scatter_plot(features_array,actual_labels,total_egs)\n",
    "    #    dec_region_plot(x_min,x_max,y_min,y_max,K,covar_type,tied_covar,phrase)\n",
    "    #print(\"The Classification accuracy of the Model is {}\".format(classify_acc))\n",
    "    return classify_acc "
   ]
  },
  {
   "cell_type": "code",
   "execution_count": null,
   "id": "69edcadb",
   "metadata": {
    "execution": {
     "iopub.execute_input": "2023-10-29T07:14:24.761835Z",
     "iopub.status.busy": "2023-10-29T07:14:24.761045Z",
     "iopub.status.idle": "2023-10-29T07:14:24.769762Z",
     "shell.execute_reply": "2023-10-29T07:14:24.768963Z",
     "shell.execute_reply.started": "2023-10-29T07:14:24.761787Z"
    },
    "papermill": {
     "duration": null,
     "end_time": null,
     "exception": null,
     "start_time": null,
     "status": "pending"
    },
    "tags": []
   },
   "outputs": [],
   "source": [
    "def plot1(predicted_labels,actual_labels,num_class,class_numbers,features_array,class_means,class_covars,K,phrase):\n",
    "    misclass_egs = matrix_plot(actual_labels,predicted_labels,num_class,class_numbers,covar_type,tied_covar,K,phrase)\n",
    "    total_egs = np.sum(class_numbers)\n",
    "    classify_acc = (1-(misclass_egs/total_egs))*100\n",
    "    if (length <= 2):\n",
    "        x_min,x_max = features_array[:,0].min()-0.5 , features_array[:,0].max()+0.5\n",
    "        y_min,y_max = features_array[:,1].min()-0.5 , features_array[:,1].max()+0.5\n",
    "        \n",
    "        plt.figure()\n",
    "    \n",
    "        level_curve_plot(class_means,class_covars,K,num_class,x_min,x_max,y_min,y_max)\n",
    "        scatter_plot(features_array,actual_labels,total_egs)\n",
    "        dec_region_plot(x_min,x_max,y_min,y_max,K,covar_type,tied_covar,phrase)\n",
    "    #print(\"The Classification accuracy of the Model is {}\".format(classify_acc))\n",
    "    return classify_acc "
   ]
  },
  {
   "cell_type": "code",
   "execution_count": null,
   "id": "44cc61dc",
   "metadata": {
    "execution": {
     "iopub.execute_input": "2023-10-29T07:14:25.424076Z",
     "iopub.status.busy": "2023-10-29T07:14:25.423336Z",
     "iopub.status.idle": "2023-10-29T07:14:25.431587Z",
     "shell.execute_reply": "2023-10-29T07:14:25.430574Z",
     "shell.execute_reply.started": "2023-10-29T07:14:25.424039Z"
    },
    "papermill": {
     "duration": null,
     "end_time": null,
     "exception": null,
     "start_time": null,
     "status": "pending"
    },
    "tags": []
   },
   "outputs": [],
   "source": [
    "def dec_region_plot(x_min,x_max,y_min,y_max,K,covar_type,tied_covar,phrase):\n",
    "    class_colors = {0: 'red', 1: 'blue'}\n",
    "    total_egs = 45 ** 2\n",
    "    \n",
    "    xx,yy = np.meshgrid(np.linspace(x_min,x_max,45),np.linspace(y_min,y_max,45))\n",
    "    feature_space = np.c_[xx.ravel(),yy.ravel()]\n",
    "    feature_sp_labels = predict(feature_space,total_egs,length,K,class_means,class_covars,class_weights,class_prior_probs,num_class)\n",
    "    feature_sp_labels = feature_sp_labels.reshape(np.shape(xx))\n",
    "    plt.contourf(xx,yy,feature_sp_labels,cmap = plt.cm.RdYlBu, alpha = 0.4)\n",
    "    plt.savefig(\"/kaggle/working/region_{}_{}_{}_{}.pdf\".format(K,covar_type,tied_covar,phrase))\n"
   ]
  },
  {
   "cell_type": "code",
   "execution_count": null,
   "id": "57b5c9fc",
   "metadata": {
    "execution": {
     "iopub.execute_input": "2023-10-29T07:14:25.853137Z",
     "iopub.status.busy": "2023-10-29T07:14:25.852757Z",
     "iopub.status.idle": "2023-10-29T07:14:25.859208Z",
     "shell.execute_reply": "2023-10-29T07:14:25.857979Z",
     "shell.execute_reply.started": "2023-10-29T07:14:25.853108Z"
    },
    "papermill": {
     "duration": null,
     "end_time": null,
     "exception": null,
     "start_time": null,
     "status": "pending"
    },
    "tags": []
   },
   "outputs": [],
   "source": [
    "def scatter_plot(class_features,actual_labels,total_egs):\n",
    "    class_colors = {0: 'red', 1: 'blue'}\n",
    "    k = 0\n",
    "    for j in range(0,total_egs):\n",
    "        plt.scatter(class_features[j][0],class_features[j][1], c = class_colors[actual_labels[k]])\n",
    "        k += 1"
   ]
  },
  {
   "cell_type": "code",
   "execution_count": null,
   "id": "84f75696",
   "metadata": {
    "execution": {
     "iopub.execute_input": "2023-10-29T07:14:26.334425Z",
     "iopub.status.busy": "2023-10-29T07:14:26.334053Z",
     "iopub.status.idle": "2023-10-29T07:14:26.344954Z",
     "shell.execute_reply": "2023-10-29T07:14:26.343878Z",
     "shell.execute_reply.started": "2023-10-29T07:14:26.334391Z"
    },
    "papermill": {
     "duration": null,
     "end_time": null,
     "exception": null,
     "start_time": null,
     "status": "pending"
    },
    "tags": []
   },
   "outputs": [],
   "source": [
    "def level_curve_plot(class_means,class_covars,K,num_class,x_min,x_max,y_min,y_max):\n",
    "    class_count = 0\n",
    "    class_colors = {0: 'red', 1: 'blue'}\n",
    "    plt.xlabel(\"feat-1\")\n",
    "    plt.ylabel(\"feat-2\")\n",
    "    plt.title(\"Decision Region for K = {}\".format(K))\n",
    "    \n",
    "    for i in range(0,num_class):\n",
    "        for j in range(0,K):\n",
    "            data = np.random.multivariate_normal(class_means[i][j],class_covars[i][j],size=200)\n",
    "            sn.kdeplot(x=data[:, 0], y=data[:, 1], color = class_colors[1-class_count], levels=[0.5],legend = True,label = \"Class {}\".format(class_colors))\n",
    "        class_count += 1\n",
    "    legend_labels = [plt.Line2D([0],[0],color = class_colors ,label = \"Class {}\".format(class_labels)) for class_labels,class_colors in class_colors.items()]\n",
    "    plt.legend\n",
    "    ax = plt.gca()\n",
    "    ax.set_xlim(x_min,x_max)\n",
    "    ax.set_ylim(y_min,y_max)"
   ]
  },
  {
   "cell_type": "code",
   "execution_count": null,
   "id": "3b295599",
   "metadata": {
    "execution": {
     "iopub.execute_input": "2023-10-29T07:14:26.937320Z",
     "iopub.status.busy": "2023-10-29T07:14:26.936938Z",
     "iopub.status.idle": "2023-10-29T07:14:26.942775Z",
     "shell.execute_reply": "2023-10-29T07:14:26.941899Z",
     "shell.execute_reply.started": "2023-10-29T07:14:26.937290Z"
    },
    "papermill": {
     "duration": null,
     "end_time": null,
     "exception": null,
     "start_time": null,
     "status": "pending"
    },
    "tags": []
   },
   "outputs": [],
   "source": [
    "def covar_tie(class_covars,class_count):\n",
    "    accum_mat = np.zeros(np.shape(class_covars[0]))\n",
    "    for i in class_covars:\n",
    "        accum_mat += i\n",
    "    tied_cov = np.divide(accum_mat,class_count)\n",
    "    for i in range(0,class_count):\n",
    "        class_covars[i] = tied_cov\n",
    "    return class_covars"
   ]
  },
  {
   "cell_type": "code",
   "execution_count": null,
   "id": "19b9d4cb",
   "metadata": {
    "papermill": {
     "duration": null,
     "end_time": null,
     "exception": null,
     "start_time": null,
     "status": "pending"
    },
    "tags": []
   },
   "outputs": [],
   "source": []
  }
 ],
 "metadata": {
  "kernelspec": {
   "display_name": "Python 3",
   "language": "python",
   "name": "python3"
  },
  "language_info": {
   "codemirror_mode": {
    "name": "ipython",
    "version": 3
   },
   "file_extension": ".py",
   "mimetype": "text/x-python",
   "name": "python",
   "nbconvert_exporter": "python",
   "pygments_lexer": "ipython3",
   "version": "3.10.12"
  },
  "papermill": {
   "default_parameters": {},
   "duration": 40.75427,
   "end_time": "2023-10-29T10:32:23.501226",
   "environment_variables": {},
   "exception": true,
   "input_path": "__notebook__.ipynb",
   "output_path": "__notebook__.ipynb",
   "parameters": {},
   "start_time": "2023-10-29T10:31:42.746956",
   "version": "2.4.0"
  }
 },
 "nbformat": 4,
 "nbformat_minor": 5
}
